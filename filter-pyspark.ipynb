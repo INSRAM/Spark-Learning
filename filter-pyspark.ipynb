{
 "cells": [
  {
   "cell_type": "markdown",
   "id": "181672b5",
   "metadata": {},
   "source": [
    "## Filter data using PySpark"
   ]
  },
  {
   "cell_type": "code",
   "execution_count": 1,
   "id": "c2bebab3",
   "metadata": {},
   "outputs": [],
   "source": [
    "from pyspark.sql import SparkSession\n",
    "spark = SparkSession.builder.appName(\"filter-pyspark\").getOrCreate()"
   ]
  },
  {
   "cell_type": "code",
   "execution_count": 2,
   "id": "602ceb1a",
   "metadata": {},
   "outputs": [
    {
     "name": "stdout",
     "output_type": "stream",
     "text": [
      "+-------+----+----------+------+\n",
      "|   Name| age|experience|salary|\n",
      "+-------+----+----------+------+\n",
      "| Insram|26.0|         3|  2500|\n",
      "|Shakeel|26.0|         4| 25600|\n",
      "|  Shabi|25.0|         5| 25700|\n",
      "+-------+----+----------+------+\n",
      "\n"
     ]
    }
   ],
   "source": [
    "## Read CSV file\n",
    "df = spark.read.csv(\"data/test.csv\", header=True, inferSchema=True)\n",
    "df.show()"
   ]
  },
  {
   "cell_type": "markdown",
   "id": "f4df89d6",
   "metadata": {},
   "source": [
    "## Filter Operations"
   ]
  },
  {
   "cell_type": "code",
   "execution_count": 4,
   "id": "d6931483",
   "metadata": {},
   "outputs": [
    {
     "name": "stdout",
     "output_type": "stream",
     "text": [
      "+------+----+----------+------+\n",
      "|  Name| age|experience|salary|\n",
      "+------+----+----------+------+\n",
      "|Insram|26.0|         3|  2500|\n",
      "+------+----+----------+------+\n",
      "\n"
     ]
    }
   ],
   "source": [
    "## Salary of people less than equal to 20000\n",
    "df.filter(df.salary <= 20000).show()"
   ]
  },
  {
   "cell_type": "code",
   "execution_count": 5,
   "id": "223d7394",
   "metadata": {},
   "outputs": [
    {
     "name": "stdout",
     "output_type": "stream",
     "text": [
      "+------+------+\n",
      "|  name|salary|\n",
      "+------+------+\n",
      "|Insram|  2500|\n",
      "+------+------+\n",
      "\n",
      "+------+------+\n",
      "|name  |salary|\n",
      "+------+------+\n",
      "|Insram|2500  |\n",
      "+------+------+\n",
      "\n"
     ]
    }
   ],
   "source": [
    "df.filter(df.salary <= 20000).select(\"name\", \"salary\").show()\n",
    "df.filter(df.salary <= 20000).select(\"name\", \"salary\").show(truncate=False)"
   ]
  },
  {
   "cell_type": "code",
   "execution_count": null,
   "id": "32ccb3b9",
   "metadata": {},
   "outputs": [],
   "source": []
  }
 ],
 "metadata": {
  "kernelspec": {
   "display_name": ".venv",
   "language": "python",
   "name": "python3"
  },
  "language_info": {
   "codemirror_mode": {
    "name": "ipython",
    "version": 3
   },
   "file_extension": ".py",
   "mimetype": "text/x-python",
   "name": "python",
   "nbconvert_exporter": "python",
   "pygments_lexer": "ipython3",
   "version": "3.10.0"
  }
 },
 "nbformat": 4,
 "nbformat_minor": 5
}
