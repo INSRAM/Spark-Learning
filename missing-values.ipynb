{
 "cells": [
  {
   "cell_type": "markdown",
   "id": "b6c28b3f",
   "metadata": {},
   "source": [
    "## Handling Missing Values"
   ]
  },
  {
   "cell_type": "code",
   "execution_count": 1,
   "id": "4e72c972",
   "metadata": {},
   "outputs": [],
   "source": [
    "from pyspark.sql import SparkSession\n",
    "spark = SparkSession.builder.appName(\"PracticeMissingValues\").getOrCreate()"
   ]
  },
  {
   "cell_type": "code",
   "execution_count": 6,
   "id": "646d18f7",
   "metadata": {},
   "outputs": [],
   "source": [
    "## Reading CSV file\n",
    "df = spark.read.csv(\"data/test2.csv\", header=True, inferSchema=True)"
   ]
  },
  {
   "cell_type": "code",
   "execution_count": 4,
   "id": "2e93568f",
   "metadata": {},
   "outputs": [
    {
     "name": "stdout",
     "output_type": "stream",
     "text": [
      "+-------+----+----------+-------+\n",
      "|   Name| age|experience| salary|\n",
      "+-------+----+----------+-------+\n",
      "| Insram|26.0|         3| 250000|\n",
      "|Shakeel|26.0|         4| 256000|\n",
      "|  Shabi|25.0|         5|2570000|\n",
      "|    Ali|18.0|         1|  25000|\n",
      "|  Ahmed|15.0|         1| 150000|\n",
      "|   NULL|45.0|      NULL|  56690|\n",
      "| Kamran|54.0|      NULL|   NULL|\n",
      "|   NULL|NULL|      NULL|  90000|\n",
      "+-------+----+----------+-------+\n",
      "\n",
      "root\n",
      " |-- Name: string (nullable = true)\n",
      " |-- age: double (nullable = true)\n",
      " |-- experience: integer (nullable = true)\n",
      " |-- salary: integer (nullable = true)\n",
      "\n"
     ]
    }
   ],
   "source": [
    "df.show()\n",
    "df.printSchema()"
   ]
  },
  {
   "cell_type": "code",
   "execution_count": 7,
   "id": "d14446d0",
   "metadata": {},
   "outputs": [
    {
     "name": "stdout",
     "output_type": "stream",
     "text": [
      "+-------+----+----------+\n",
      "|   Name| age|experience|\n",
      "+-------+----+----------+\n",
      "| Insram|26.0|         3|\n",
      "|Shakeel|26.0|         4|\n",
      "|  Shabi|25.0|         5|\n",
      "|    Ali|18.0|         1|\n",
      "|  Ahmed|15.0|         1|\n",
      "|   NULL|45.0|      NULL|\n",
      "| Kamran|54.0|      NULL|\n",
      "|   NULL|NULL|      NULL|\n",
      "+-------+----+----------+\n",
      "\n"
     ]
    }
   ],
   "source": [
    "## Drop a column\n",
    "df.drop(\"salary\").show()"
   ]
  },
  {
   "cell_type": "code",
   "execution_count": 8,
   "id": "1522ad1b",
   "metadata": {},
   "outputs": [
    {
     "name": "stdout",
     "output_type": "stream",
     "text": [
      "+-------+----+----------+-------+\n",
      "|   Name| age|experience| salary|\n",
      "+-------+----+----------+-------+\n",
      "| Insram|26.0|         3| 250000|\n",
      "|Shakeel|26.0|         4| 256000|\n",
      "|  Shabi|25.0|         5|2570000|\n",
      "|    Ali|18.0|         1|  25000|\n",
      "|  Ahmed|15.0|         1| 150000|\n",
      "|   NULL|45.0|      NULL|  56690|\n",
      "| Kamran|54.0|      NULL|   NULL|\n",
      "|   NULL|NULL|      NULL|  90000|\n",
      "+-------+----+----------+-------+\n",
      "\n"
     ]
    }
   ],
   "source": [
    "df.show()\n"
   ]
  },
  {
   "cell_type": "code",
   "execution_count": 9,
   "id": "67ea65ed",
   "metadata": {},
   "outputs": [
    {
     "name": "stdout",
     "output_type": "stream",
     "text": [
      "+-------+----+----------+-------+\n",
      "|   Name| age|experience| salary|\n",
      "+-------+----+----------+-------+\n",
      "| Insram|26.0|         3| 250000|\n",
      "|Shakeel|26.0|         4| 256000|\n",
      "|  Shabi|25.0|         5|2570000|\n",
      "|    Ali|18.0|         1|  25000|\n",
      "|  Ahmed|15.0|         1| 150000|\n",
      "+-------+----+----------+-------+\n",
      "\n"
     ]
    }
   ],
   "source": [
    "## Drop null values\n",
    "df.na.drop().show()"
   ]
  },
  {
   "cell_type": "code",
   "execution_count": 10,
   "id": "585cf577",
   "metadata": {},
   "outputs": [
    {
     "name": "stdout",
     "output_type": "stream",
     "text": [
      "+-------+----+----------+-------+\n",
      "|   Name| age|experience| salary|\n",
      "+-------+----+----------+-------+\n",
      "| Insram|26.0|         3| 250000|\n",
      "|Shakeel|26.0|         4| 256000|\n",
      "|  Shabi|25.0|         5|2570000|\n",
      "|    Ali|18.0|         1|  25000|\n",
      "|  Ahmed|15.0|         1| 150000|\n",
      "|   NULL|45.0|      NULL|  56690|\n",
      "| Kamran|54.0|      NULL|   NULL|\n",
      "|   NULL|NULL|      NULL|  90000|\n",
      "+-------+----+----------+-------+\n",
      "\n",
      "+-------+----+----------+-------+\n",
      "|   Name| age|experience| salary|\n",
      "+-------+----+----------+-------+\n",
      "| Insram|26.0|         3| 250000|\n",
      "|Shakeel|26.0|         4| 256000|\n",
      "|  Shabi|25.0|         5|2570000|\n",
      "|    Ali|18.0|         1|  25000|\n",
      "|  Ahmed|15.0|         1| 150000|\n",
      "+-------+----+----------+-------+\n",
      "\n"
     ]
    }
   ],
   "source": [
    "## Drop missing values with how \n",
    "df.na.drop(how=\"all\").show()\n",
    "df.na.drop(how=\"any\").show()"
   ]
  },
  {
   "cell_type": "code",
   "execution_count": 12,
   "id": "0da7ef16",
   "metadata": {},
   "outputs": [
    {
     "name": "stdout",
     "output_type": "stream",
     "text": [
      "+-------+----+----------+-------+\n",
      "|   Name| age|experience| salary|\n",
      "+-------+----+----------+-------+\n",
      "| Insram|26.0|         3| 250000|\n",
      "|Shakeel|26.0|         4| 256000|\n",
      "|  Shabi|25.0|         5|2570000|\n",
      "|    Ali|18.0|         1|  25000|\n",
      "|  Ahmed|15.0|         1| 150000|\n",
      "|   NULL|45.0|      NULL|  56690|\n",
      "| Kamran|54.0|      NULL|   NULL|\n",
      "+-------+----+----------+-------+\n",
      "\n"
     ]
    }
   ],
   "source": [
    "## how and thresh\n",
    "df.na.drop(how=\"any\", thresh=2).show()"
   ]
  },
  {
   "cell_type": "code",
   "execution_count": 14,
   "id": "95ead8f2",
   "metadata": {},
   "outputs": [
    {
     "name": "stdout",
     "output_type": "stream",
     "text": [
      "+-------+----+----------+-------+\n",
      "|   Name| age|experience| salary|\n",
      "+-------+----+----------+-------+\n",
      "| Insram|26.0|         3| 250000|\n",
      "|Shakeel|26.0|         4| 256000|\n",
      "|  Shabi|25.0|         5|2570000|\n",
      "|    Ali|18.0|         1|  25000|\n",
      "|  Ahmed|15.0|         1| 150000|\n",
      "|   NULL|45.0|      NULL|  56690|\n",
      "|   NULL|NULL|      NULL|  90000|\n",
      "+-------+----+----------+-------+\n",
      "\n"
     ]
    }
   ],
   "source": [
    "## How and subset\n",
    "df.na.drop(how=\"any\", subset=[\"salary\"]).show()"
   ]
  },
  {
   "cell_type": "code",
   "execution_count": 17,
   "id": "646597fb",
   "metadata": {},
   "outputs": [
    {
     "name": "stdout",
     "output_type": "stream",
     "text": [
      "+-------+----+----------+-------+\n",
      "|   Name| age|experience| salary|\n",
      "+-------+----+----------+-------+\n",
      "| Insram|26.0|         3| 250000|\n",
      "|Shakeel|26.0|         4| 256000|\n",
      "|  Shabi|25.0|         5|2570000|\n",
      "|    Ali|18.0|         1|  25000|\n",
      "|  Ahmed|15.0|         1| 150000|\n",
      "|   NULL|45.0|         0|  56690|\n",
      "| Kamran|54.0|         0|      0|\n",
      "|   NULL| 0.0|         0|  90000|\n",
      "+-------+----+----------+-------+\n",
      "\n"
     ]
    }
   ],
   "source": [
    "## Fill null values\n",
    "df.na.fill(0).show()"
   ]
  },
  {
   "cell_type": "code",
   "execution_count": 18,
   "id": "e0a4cdfb",
   "metadata": {},
   "outputs": [],
   "source": [
    "## Set imputer for numeric columns\n",
    "from pyspark.ml.feature import Imputer\n",
    "columns = [\"age\", \"experience\", \"salary\"]\n",
    "imputer = Imputer(inputCols=columns, outputCols=[\"{}_imputed\".format(c) for c in columns]).setStrategy(\"mean\")"
   ]
  },
  {
   "cell_type": "code",
   "execution_count": 19,
   "id": "99b08db5",
   "metadata": {},
   "outputs": [
    {
     "name": "stdout",
     "output_type": "stream",
     "text": [
      "+-------+----+----------+-------+------------------+------------------+--------------+\n",
      "|   Name| age|experience| salary|       age_imputed|experience_imputed|salary_imputed|\n",
      "+-------+----+----------+-------+------------------+------------------+--------------+\n",
      "| Insram|26.0|         3| 250000|              26.0|                 3|        250000|\n",
      "|Shakeel|26.0|         4| 256000|              26.0|                 4|        256000|\n",
      "|  Shabi|25.0|         5|2570000|              25.0|                 5|       2570000|\n",
      "|    Ali|18.0|         1|  25000|              18.0|                 1|         25000|\n",
      "|  Ahmed|15.0|         1| 150000|              15.0|                 1|        150000|\n",
      "|   NULL|45.0|      NULL|  56690|              45.0|                 2|         56690|\n",
      "| Kamran|54.0|      NULL|   NULL|              54.0|                 2|        485384|\n",
      "|   NULL|NULL|      NULL|  90000|29.857142857142858|                 2|         90000|\n",
      "+-------+----+----------+-------+------------------+------------------+--------------+\n",
      "\n"
     ]
    }
   ],
   "source": [
    "## imputer fit and transform\n",
    "imputer.fit(df).transform(df).show()"
   ]
  },
  {
   "cell_type": "code",
   "execution_count": null,
   "id": "de963e1f",
   "metadata": {},
   "outputs": [],
   "source": []
  }
 ],
 "metadata": {
  "kernelspec": {
   "display_name": "venv",
   "language": "python",
   "name": "python3"
  },
  "language_info": {
   "codemirror_mode": {
    "name": "ipython",
    "version": 3
   },
   "file_extension": ".py",
   "mimetype": "text/x-python",
   "name": "python",
   "nbconvert_exporter": "python",
   "pygments_lexer": "ipython3",
   "version": "3.10.0"
  }
 },
 "nbformat": 4,
 "nbformat_minor": 5
}
