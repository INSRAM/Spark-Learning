{
 "cells": [
  {
   "cell_type": "markdown",
   "id": "b2a0801c",
   "metadata": {},
   "source": [
    "# PySpark DataFrames"
   ]
  },
  {
   "cell_type": "code",
   "execution_count": 5,
   "id": "d2e09c1d",
   "metadata": {},
   "outputs": [],
   "source": [
    "import pyspark\n",
    "from pyspark.sql import SparkSession\n"
   ]
  },
  {
   "cell_type": "code",
   "execution_count": 6,
   "id": "6e33e535",
   "metadata": {},
   "outputs": [],
   "source": [
    "\n",
    "spark = SparkSession.builder.appName(\"dataframe_paractice\").getOrCreate()\n"
   ]
  },
  {
   "cell_type": "code",
   "execution_count": 21,
   "id": "fd26f586",
   "metadata": {},
   "outputs": [],
   "source": [
    "\n",
    "df_sparkd = spark.read.csv('./data/test.csv', header=True, inferSchema=True)"
   ]
  },
  {
   "cell_type": "code",
   "execution_count": 8,
   "id": "83382786",
   "metadata": {},
   "outputs": [
    {
     "name": "stdout",
     "output_type": "stream",
     "text": [
      "+-------+----+----------+\n",
      "|   Name| age|experience|\n",
      "+-------+----+----------+\n",
      "| Insram|26.0|         3|\n",
      "|Shakeel|26.0|         4|\n",
      "|  Shabi|25.0|         5|\n",
      "+-------+----+----------+\n",
      "\n"
     ]
    }
   ],
   "source": [
    "df_sparkd.show()"
   ]
  },
  {
   "cell_type": "code",
   "execution_count": 12,
   "id": "2797d9a3",
   "metadata": {},
   "outputs": [
    {
     "name": "stdout",
     "output_type": "stream",
     "text": [
      "root\n",
      " |-- Name: string (nullable = true)\n",
      " |-- age: double (nullable = true)\n",
      " |-- experience: integer (nullable = true)\n",
      "\n"
     ]
    }
   ],
   "source": [
    "## schema\n",
    "df_sparkd.printSchema()\n"
   ]
  },
  {
   "cell_type": "code",
   "execution_count": 14,
   "id": "1bd7d7ec",
   "metadata": {},
   "outputs": [
    {
     "name": "stdout",
     "output_type": "stream",
     "text": [
      "+-------+-------+------------------+----------+\n",
      "|summary|   Name|               age|experience|\n",
      "+-------+-------+------------------+----------+\n",
      "|  count|      3|                 3|         3|\n",
      "|   mean|   NULL|25.666666666666668|       4.0|\n",
      "| stddev|   NULL|0.5773502691896258|       1.0|\n",
      "|    min| Insram|              25.0|         3|\n",
      "|    max|Shakeel|              26.0|         5|\n",
      "+-------+-------+------------------+----------+\n",
      "\n"
     ]
    }
   ],
   "source": [
    "#Describe the dataframe\n",
    "df_sparkd.describe().show()\n"
   ]
  },
  {
   "cell_type": "code",
   "execution_count": 15,
   "id": "0245c26e",
   "metadata": {},
   "outputs": [
    {
     "name": "stdout",
     "output_type": "stream",
     "text": [
      "+-------+----+\n",
      "|   Name| Age|\n",
      "+-------+----+\n",
      "| Insram|26.0|\n",
      "|Shakeel|26.0|\n",
      "|  Shabi|25.0|\n",
      "+-------+----+\n",
      "\n"
     ]
    }
   ],
   "source": [
    "## Select specific columns\n",
    "df_sparkd.select(\"Name\", \"Age\").show()"
   ]
  },
  {
   "cell_type": "code",
   "execution_count": 19,
   "id": "52d93fa3",
   "metadata": {},
   "outputs": [
    {
     "name": "stdout",
     "output_type": "stream",
     "text": [
      "+-------+----+\n",
      "|   Name| Age|\n",
      "+-------+----+\n",
      "| Insram|26.0|\n",
      "|Shakeel|26.0|\n",
      "|  Shabi|25.0|\n",
      "+-------+----+\n",
      "\n"
     ]
    }
   ],
   "source": [
    "## Select specific columns with condition\n",
    "df_sparkd.select([\"Name\", \"Age\"]).show()#.filter(df_sparkd.Age > 30).show()"
   ]
  },
  {
   "cell_type": "code",
   "execution_count": 23,
   "id": "80ef1526",
   "metadata": {},
   "outputs": [],
   "source": [
    "### ADD NEW COLUMN\n",
    "df_sparkd = df_sparkd.withColumn(\"New Age Column\", df_sparkd['age'] + 10)"
   ]
  },
  {
   "cell_type": "code",
   "execution_count": 24,
   "id": "6d3d105c",
   "metadata": {},
   "outputs": [
    {
     "name": "stdout",
     "output_type": "stream",
     "text": [
      "+-------+----+----------+--------------+\n",
      "|   Name| age|experience|New Age Column|\n",
      "+-------+----+----------+--------------+\n",
      "| Insram|26.0|         3|          36.0|\n",
      "|Shakeel|26.0|         4|          36.0|\n",
      "|  Shabi|25.0|         5|          35.0|\n",
      "+-------+----+----------+--------------+\n",
      "\n"
     ]
    }
   ],
   "source": [
    "df_sparkd.show()"
   ]
  },
  {
   "cell_type": "code",
   "execution_count": 25,
   "id": "d8498509",
   "metadata": {},
   "outputs": [
    {
     "name": "stdout",
     "output_type": "stream",
     "text": [
      "+-------+----+----------+\n",
      "|   Name| age|experience|\n",
      "+-------+----+----------+\n",
      "| Insram|26.0|         3|\n",
      "|Shakeel|26.0|         4|\n",
      "|  Shabi|25.0|         5|\n",
      "+-------+----+----------+\n",
      "\n"
     ]
    }
   ],
   "source": [
    "## Drop a column\n",
    "df_sparkd = df_sparkd.drop(\"New Age Column\")\n",
    "df_sparkd.show()"
   ]
  },
  {
   "cell_type": "code",
   "execution_count": 26,
   "id": "e3cb2f54",
   "metadata": {},
   "outputs": [
    {
     "name": "stdout",
     "output_type": "stream",
     "text": [
      "+---------+----+----------+\n",
      "|Full Name| age|experience|\n",
      "+---------+----+----------+\n",
      "|   Insram|26.0|         3|\n",
      "|  Shakeel|26.0|         4|\n",
      "|    Shabi|25.0|         5|\n",
      "+---------+----+----------+\n",
      "\n"
     ]
    }
   ],
   "source": [
    "## Rename a column\n",
    "df_sparkd = df_sparkd.withColumnRenamed(\"Name\", \"Full Name\")\n",
    "df_sparkd.show()"
   ]
  },
  {
   "cell_type": "code",
   "execution_count": null,
   "id": "aae5e3a9",
   "metadata": {},
   "outputs": [],
   "source": []
  }
 ],
 "metadata": {
  "kernelspec": {
   "display_name": "venv",
   "language": "python",
   "name": "python3"
  },
  "language_info": {
   "codemirror_mode": {
    "name": "ipython",
    "version": 3
   },
   "file_extension": ".py",
   "mimetype": "text/x-python",
   "name": "python",
   "nbconvert_exporter": "python",
   "pygments_lexer": "ipython3",
   "version": "3.10.0"
  }
 },
 "nbformat": 4,
 "nbformat_minor": 5
}
